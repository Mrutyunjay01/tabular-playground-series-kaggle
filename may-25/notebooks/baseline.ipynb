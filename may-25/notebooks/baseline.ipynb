{
 "cells": [
  {
   "cell_type": "markdown",
   "id": "7114b1c0",
   "metadata": {},
   "source": [
    "**Goal:** predict how many calories are burnt during a workout.\n",
    "**Metrics:** RMSLE (Root Mean Square Log Error)"
   ]
  },
  {
   "cell_type": "code",
   "execution_count": 86,
   "id": "d83968db",
   "metadata": {},
   "outputs": [],
   "source": [
    "import os\n",
    "import gc\n",
    "import yaml\n",
    "import xgboost as xgb\n",
    "import numpy as np\n",
    "import polars as pl\n",
    "import matplotlib.pyplot as plt\n",
    "from sklearn.model_selection import StratifiedKFold\n",
    "from sklearn.metrics import root_mean_squared_log_error\n",
    "\n",
    "%matplotlib inline"
   ]
  },
  {
   "cell_type": "code",
   "execution_count": 87,
   "id": "5b550f63",
   "metadata": {},
   "outputs": [],
   "source": [
    "with open(\"./../config.yml\", \"r\") as fh:\n",
    "    config = yaml.safe_load(fh)\n",
    "    fh.close()"
   ]
  },
  {
   "cell_type": "code",
   "execution_count": 88,
   "id": "d316f7a0",
   "metadata": {},
   "outputs": [],
   "source": [
    "train_df = pl.read_csv(os.path.join(config[\"data\"][\"path\"][\"inp\"], \"train.csv\"))\n",
    "test_df = pl.read_csv(os.path.join(config[\"data\"][\"path\"][\"inp\"], \"test.csv\"))\n",
    "ss_df = pl.read_csv(os.path.join(config[\"data\"][\"path\"][\"inp\"], \"sample_submission.csv\"))"
   ]
  },
  {
   "cell_type": "code",
   "execution_count": 89,
   "id": "9008561a",
   "metadata": {},
   "outputs": [
    {
     "data": {
      "text/html": [
       "<div><style>\n",
       ".dataframe > thead > tr,\n",
       ".dataframe > tbody > tr {\n",
       "  text-align: right;\n",
       "  white-space: pre-wrap;\n",
       "}\n",
       "</style>\n",
       "<small>shape: (5, 9)</small><table border=\"1\" class=\"dataframe\"><thead><tr><th>id</th><th>Sex</th><th>Age</th><th>Height</th><th>Weight</th><th>Duration</th><th>Heart_Rate</th><th>Body_Temp</th><th>Calories</th></tr><tr><td>i64</td><td>str</td><td>i64</td><td>f64</td><td>f64</td><td>f64</td><td>f64</td><td>f64</td><td>f64</td></tr></thead><tbody><tr><td>0</td><td>&quot;male&quot;</td><td>36</td><td>189.0</td><td>82.0</td><td>26.0</td><td>101.0</td><td>41.0</td><td>150.0</td></tr><tr><td>1</td><td>&quot;female&quot;</td><td>64</td><td>163.0</td><td>60.0</td><td>8.0</td><td>85.0</td><td>39.7</td><td>34.0</td></tr><tr><td>2</td><td>&quot;female&quot;</td><td>51</td><td>161.0</td><td>64.0</td><td>7.0</td><td>84.0</td><td>39.8</td><td>29.0</td></tr><tr><td>3</td><td>&quot;male&quot;</td><td>20</td><td>192.0</td><td>90.0</td><td>25.0</td><td>105.0</td><td>40.7</td><td>140.0</td></tr><tr><td>4</td><td>&quot;female&quot;</td><td>38</td><td>166.0</td><td>61.0</td><td>25.0</td><td>102.0</td><td>40.6</td><td>146.0</td></tr></tbody></table></div>"
      ],
      "text/plain": [
       "shape: (5, 9)\n",
       "┌─────┬────────┬─────┬────────┬───┬──────────┬────────────┬───────────┬──────────┐\n",
       "│ id  ┆ Sex    ┆ Age ┆ Height ┆ … ┆ Duration ┆ Heart_Rate ┆ Body_Temp ┆ Calories │\n",
       "│ --- ┆ ---    ┆ --- ┆ ---    ┆   ┆ ---      ┆ ---        ┆ ---       ┆ ---      │\n",
       "│ i64 ┆ str    ┆ i64 ┆ f64    ┆   ┆ f64      ┆ f64        ┆ f64       ┆ f64      │\n",
       "╞═════╪════════╪═════╪════════╪═══╪══════════╪════════════╪═══════════╪══════════╡\n",
       "│ 0   ┆ male   ┆ 36  ┆ 189.0  ┆ … ┆ 26.0     ┆ 101.0      ┆ 41.0      ┆ 150.0    │\n",
       "│ 1   ┆ female ┆ 64  ┆ 163.0  ┆ … ┆ 8.0      ┆ 85.0       ┆ 39.7      ┆ 34.0     │\n",
       "│ 2   ┆ female ┆ 51  ┆ 161.0  ┆ … ┆ 7.0      ┆ 84.0       ┆ 39.8      ┆ 29.0     │\n",
       "│ 3   ┆ male   ┆ 20  ┆ 192.0  ┆ … ┆ 25.0     ┆ 105.0      ┆ 40.7      ┆ 140.0    │\n",
       "│ 4   ┆ female ┆ 38  ┆ 166.0  ┆ … ┆ 25.0     ┆ 102.0      ┆ 40.6      ┆ 146.0    │\n",
       "└─────┴────────┴─────┴────────┴───┴──────────┴────────────┴───────────┴──────────┘"
      ]
     },
     "execution_count": 89,
     "metadata": {},
     "output_type": "execute_result"
    }
   ],
   "source": [
    "train_df.head()"
   ]
  },
  {
   "cell_type": "markdown",
   "id": "2d7d4b62",
   "metadata": {},
   "source": [
    "so, we have 8 columns and target as Calories. Workout duration I assume to be in minutes, Heart Rate in BPS, Body Temp in Celcius, Height in cm, weight in Kg."
   ]
  },
  {
   "cell_type": "code",
   "execution_count": 90,
   "id": "c2de10aa",
   "metadata": {},
   "outputs": [
    {
     "data": {
      "text/plain": [
       "(750000, 250000)"
      ]
     },
     "execution_count": 90,
     "metadata": {},
     "output_type": "execute_result"
    }
   ],
   "source": [
    "len(train_df), len(test_df)"
   ]
  },
  {
   "cell_type": "code",
   "execution_count": 91,
   "id": "aea50fef",
   "metadata": {},
   "outputs": [
    {
     "data": {
      "text/html": [
       "<div><style>\n",
       ".dataframe > thead > tr,\n",
       ".dataframe > tbody > tr {\n",
       "  text-align: right;\n",
       "  white-space: pre-wrap;\n",
       "}\n",
       "</style>\n",
       "<small>shape: (9, 2)</small><table border=\"1\" class=\"dataframe\"><thead><tr><th>statistic</th><th>value</th></tr><tr><td>str</td><td>f64</td></tr></thead><tbody><tr><td>&quot;count&quot;</td><td>750000.0</td></tr><tr><td>&quot;null_count&quot;</td><td>0.0</td></tr><tr><td>&quot;mean&quot;</td><td>88.282781</td></tr><tr><td>&quot;std&quot;</td><td>62.395349</td></tr><tr><td>&quot;min&quot;</td><td>1.0</td></tr><tr><td>&quot;25%&quot;</td><td>34.0</td></tr><tr><td>&quot;50%&quot;</td><td>77.0</td></tr><tr><td>&quot;75%&quot;</td><td>136.0</td></tr><tr><td>&quot;max&quot;</td><td>314.0</td></tr></tbody></table></div>"
      ],
      "text/plain": [
       "shape: (9, 2)\n",
       "┌────────────┬───────────┐\n",
       "│ statistic  ┆ value     │\n",
       "│ ---        ┆ ---       │\n",
       "│ str        ┆ f64       │\n",
       "╞════════════╪═══════════╡\n",
       "│ count      ┆ 750000.0  │\n",
       "│ null_count ┆ 0.0       │\n",
       "│ mean       ┆ 88.282781 │\n",
       "│ std        ┆ 62.395349 │\n",
       "│ min        ┆ 1.0       │\n",
       "│ 25%        ┆ 34.0      │\n",
       "│ 50%        ┆ 77.0      │\n",
       "│ 75%        ┆ 136.0     │\n",
       "│ max        ┆ 314.0     │\n",
       "└────────────┴───────────┘"
      ]
     },
     "execution_count": 91,
     "metadata": {},
     "output_type": "execute_result"
    }
   ],
   "source": [
    "train_df['Calories'].describe()"
   ]
  },
  {
   "cell_type": "code",
   "execution_count": 92,
   "id": "6e96f596",
   "metadata": {},
   "outputs": [
    {
     "data": {
      "text/plain": [
       "<Axes: >"
      ]
     },
     "execution_count": 92,
     "metadata": {},
     "output_type": "execute_result"
    },
    {
     "data": {
      "image/png": "[encoded data removed]",
      "text/plain": [
       "<Figure size 640x480 with 1 Axes>"
      ]
     },
     "metadata": {},
     "output_type": "display_data"
    }
   ],
   "source": [
    "train_df['Calories'].to_pandas().hist()"
   ]
  },
  {
   "cell_type": "code",
   "execution_count": 93,
   "id": "92cda660",
   "metadata": {},
   "outputs": [],
   "source": [
    "y = train_df[\"Calories\"].to_numpy()\n",
    "y_log1p = np.log1p(y)"
   ]
  },
  {
   "cell_type": "code",
   "execution_count": 94,
   "id": "6035946f",
   "metadata": {},
   "outputs": [
    {
     "data": {
      "text/plain": [
       "(array([  3081.,  11103.,  24812.,  40201.,  58387.,  79358., 126449.,\n",
       "        157910., 190319.,  58380.]),\n",
       " array([0.69314718, 1.19908973, 1.70503227, 2.21097482, 2.71691736,\n",
       "        3.22285991, 3.72880246, 4.234745  , 4.74068755, 5.24663009,\n",
       "        5.75257264]),\n",
       " <BarContainer object of 10 artists>)"
      ]
     },
     "execution_count": 94,
     "metadata": {},
     "output_type": "execute_result"
    },
    {
     "data": {
      "image/png": "[encoded data removed]",
      "text/plain": [
       "<Figure size 640x480 with 1 Axes>"
      ]
     },
     "metadata": {},
     "output_type": "display_data"
    }
   ],
   "source": [
    "plt.hist(y_log1p)"
   ]
  },
  {
   "cell_type": "code",
   "execution_count": 95,
   "id": "49bfab03",
   "metadata": {},
   "outputs": [],
   "source": [
    "# handle categorical values\n",
    "# map male to 1, female to -1\n",
    "train_df = train_df.with_columns(\n",
    "    pl.when(\n",
    "        pl.col(\"Sex\") == \"male\"\n",
    "    ).then(1)\n",
    "    .otherwise(-1).alias(\"Sex\")\n",
    ")\n",
    "\n",
    "test_df = test_df.with_columns(\n",
    "    pl.when(\n",
    "        pl.col(\"Sex\") == \"male\"\n",
    "    ).then(1).otherwise(-1).alias(\"Sex\")\n",
    ")"
   ]
  },
  {
   "cell_type": "code",
   "execution_count": 96,
   "id": "e4aa89c7",
   "metadata": {},
   "outputs": [],
   "source": [
    "train_df = train_df.with_columns(\n",
    "    pl.col(\"Calories\").qcut(\n",
    "        [0, 0.25, 0.5, 0.75, 1], \n",
    "        labels=[\"l1\", \"l2\", \"l3\", \"l4\", \"l5\", \"l6\"]).alias(\"Calories_qcut\")\n",
    ")"
   ]
  },
  {
   "cell_type": "code",
   "execution_count": 97,
   "id": "d0562bc7",
   "metadata": {},
   "outputs": [],
   "source": [
    "xgb_params = {\n",
    "        \"subsample\": 0.7,\n",
    "        \"colsample_bytree\": 0.45,\n",
    "        \"max_depth\": 6,\n",
    "        \"learning_rate\": 0.006,\n",
    "        \"objective\": \"reg:squarederror\",\n",
    "        \"nthread\": -1,\n",
    "        # 'tree_method': 'gpu_hist',\n",
    "        \"max_bin\": 168, \n",
    "        'min_child_weight': 3,\n",
    "        'reg_lambda': 0.006,\n",
    "        'reg_alpha': 0.04, \n",
    "        'seed' : 42,\n",
    "}"
   ]
  },
  {
   "cell_type": "code",
   "execution_count": 98,
   "id": "3a0a79ad",
   "metadata": {},
   "outputs": [
    {
     "name": "stdout",
     "output_type": "stream",
     "text": [
      "Fold: 0\n",
      "[0]\ttrain-rmse:62.04793\tval-rmse:62.01500\n",
      "[1000]\ttrain-rmse:1.94293\tval-rmse:1.95404\n",
      "[2000]\ttrain-rmse:1.55800\tval-rmse:1.58325\n",
      "[3000]\ttrain-rmse:1.43147\tval-rmse:1.46640\n",
      "[4000]\ttrain-rmse:1.35701\tval-rmse:1.40208\n",
      "[5000]\ttrain-rmse:1.30023\tval-rmse:1.35451\n",
      "[6000]\ttrain-rmse:1.25269\tval-rmse:1.31488\n",
      "[7000]\ttrain-rmse:1.21035\tval-rmse:1.28003\n",
      "[8000]\ttrain-rmse:1.17397\tval-rmse:1.25028\n",
      "[9000]\ttrain-rmse:1.14020\tval-rmse:1.22256\n",
      "[9999]\ttrain-rmse:1.11036\tval-rmse:1.19868\n",
      "Fold: 0, OOF score: 0.027179122642949263\n",
      "Fold: 1\n",
      "[0]\ttrain-rmse:62.03970\tval-rmse:62.04874\n",
      "[1000]\ttrain-rmse:1.94712\tval-rmse:1.96470\n",
      "[2000]\ttrain-rmse:1.56333\tval-rmse:1.58640\n",
      "[3000]\ttrain-rmse:1.43714\tval-rmse:1.46675\n",
      "[4000]\ttrain-rmse:1.36300\tval-rmse:1.39993\n",
      "[5000]\ttrain-rmse:1.30664\tval-rmse:1.35074\n",
      "[6000]\ttrain-rmse:1.25914\tval-rmse:1.31024\n",
      "[7000]\ttrain-rmse:1.21675\tval-rmse:1.27443\n",
      "[8000]\ttrain-rmse:1.17972\tval-rmse:1.24362\n",
      "[9000]\ttrain-rmse:1.14634\tval-rmse:1.21595\n",
      "[9999]\ttrain-rmse:1.11661\tval-rmse:1.19163\n",
      "Fold: 1, OOF score: 0.027190944459390628\n",
      "Fold: 2\n",
      "[0]\ttrain-rmse:62.04008\tval-rmse:62.04801\n",
      "[1000]\ttrain-rmse:1.94300\tval-rmse:1.97079\n",
      "[2000]\ttrain-rmse:1.55927\tval-rmse:1.59127\n",
      "[3000]\ttrain-rmse:1.43310\tval-rmse:1.47149\n",
      "[4000]\ttrain-rmse:1.35879\tval-rmse:1.40549\n",
      "[5000]\ttrain-rmse:1.30270\tval-rmse:1.35709\n",
      "[6000]\ttrain-rmse:1.25544\tval-rmse:1.31665\n",
      "[7000]\ttrain-rmse:1.21341\tval-rmse:1.28101\n",
      "[8000]\ttrain-rmse:1.17661\tval-rmse:1.25052\n",
      "[9000]\ttrain-rmse:1.14260\tval-rmse:1.22196\n",
      "[9999]\ttrain-rmse:1.11343\tval-rmse:1.19806\n",
      "Fold: 2, OOF score: 0.02727586429230058\n",
      "Fold: 3\n",
      "[0]\ttrain-rmse:62.03237\tval-rmse:62.07743\n",
      "[1000]\ttrain-rmse:1.94751\tval-rmse:1.97305\n",
      "[2000]\ttrain-rmse:1.56176\tval-rmse:1.59623\n",
      "[3000]\ttrain-rmse:1.43540\tval-rmse:1.47801\n",
      "[4000]\ttrain-rmse:1.36126\tval-rmse:1.41217\n",
      "[5000]\ttrain-rmse:1.30504\tval-rmse:1.36386\n",
      "[6000]\ttrain-rmse:1.25733\tval-rmse:1.32333\n",
      "[7000]\ttrain-rmse:1.21485\tval-rmse:1.28754\n",
      "[8000]\ttrain-rmse:1.17820\tval-rmse:1.25720\n",
      "[9000]\ttrain-rmse:1.14466\tval-rmse:1.22977\n",
      "[9999]\ttrain-rmse:1.11483\tval-rmse:1.20546\n",
      "Fold: 3, OOF score: 0.027577436182662254\n",
      "Fold: 4\n",
      "[0]\ttrain-rmse:62.04714\tval-rmse:62.01806\n",
      "[1000]\ttrain-rmse:1.94512\tval-rmse:1.98253\n",
      "[2000]\ttrain-rmse:1.56152\tval-rmse:1.60024\n",
      "[3000]\ttrain-rmse:1.43519\tval-rmse:1.48036\n",
      "[4000]\ttrain-rmse:1.36093\tval-rmse:1.41389\n",
      "[5000]\ttrain-rmse:1.30431\tval-rmse:1.36535\n",
      "[6000]\ttrain-rmse:1.25655\tval-rmse:1.32497\n",
      "[7000]\ttrain-rmse:1.21458\tval-rmse:1.28931\n",
      "[8000]\ttrain-rmse:1.17775\tval-rmse:1.25887\n",
      "[9000]\ttrain-rmse:1.14441\tval-rmse:1.23132\n",
      "[9999]\ttrain-rmse:1.11466\tval-rmse:1.20719\n",
      "Fold: 4, OOF score: 0.027535531339567026\n"
     ]
    }
   ],
   "source": [
    "skf = StratifiedKFold(n_splits=5, shuffle=True, random_state=42)\n",
    "splits = skf.split(X=train_df, y=train_df[\"Calories_qcut\"])\n",
    "\n",
    "oof_predictions = np.zeros(len(train_df))\n",
    "\n",
    "dtest = xgb.DMatrix(test_df)\n",
    "y_test = np.zeros(len(test_df))\n",
    "\n",
    "for fold, (train_idx, val_idx) in enumerate(splits):\n",
    "    print(f\"Fold: {fold}\")\n",
    "    x_train, y_train = train_df[train_idx].drop(\"Calories_qcut\"), train_df[\"Calories\"][train_idx]\n",
    "    x_val, y_val = train_df[val_idx].drop(\"Calories_qcut\"), train_df[\"Calories\"][val_idx]\n",
    "\n",
    "    # create a xgb model with default params\n",
    "    dtrain = xgb.DMatrix(x_train, label=y_train)\n",
    "    dval = xgb.DMatrix(x_val, label=y_val)\n",
    "\n",
    "    # train the model\n",
    "    model = xgb.train(\n",
    "        params=xgb_params,\n",
    "        dtrain=dtrain,\n",
    "        num_boost_round=10000,\n",
    "        evals=[(dtrain, \"train\"), (dval, \"val\")],\n",
    "        early_stopping_rounds=500,\n",
    "        verbose_eval=1000\n",
    "    )\n",
    "\n",
    "    # predict the validation set\n",
    "    y_pred = model.predict(dval)\n",
    "    oof_predictions[val_idx] = y_pred\n",
    "    oof_score = root_mean_squared_log_error(y_true=y_val, y_pred=y_pred)\n",
    "    print(f\"Fold: {fold}, OOF score: {oof_score}\")\n",
    "\n",
    "    # predict the test set\n",
    "    y_test_fold = model.predict(dtest)\n",
    "    y_test += y_test_fold / skf.n_splits\n",
    "\n",
    "    del x_train, y_train, x_val, y_val, dtrain, dval\n",
    "    _ = gc.collect()"
   ]
  },
  {
   "cell_type": "code",
   "execution_count": 100,
   "id": "9703c168",
   "metadata": {},
   "outputs": [
    {
     "data": {
      "text/plain": [
       "0.027352314045830044"
      ]
     },
     "execution_count": 100,
     "metadata": {},
     "output_type": "execute_result"
    }
   ],
   "source": [
    "root_mean_squared_log_error(y_true=y, y_pred=oof_predictions)"
   ]
  },
  {
   "cell_type": "code",
   "execution_count": 119,
   "id": "8c2db9a9",
   "metadata": {},
   "outputs": [],
   "source": [
    "ss_df = ss_df.with_columns(\n",
    "    pl.Series(y_test).alias(\"Calories\")\n",
    ")\n",
    "ss_df.write_csv(os.path.join(config[\"data\"][\"path\"][\"out\"], \"submission.csv\"))"
   ]
  },
  {
   "cell_type": "code",
   "execution_count": 120,
   "id": "c22f5fd5",
   "metadata": {},
   "outputs": [
    {
     "data": {
      "text/html": [
       "<div><style>\n",
       ".dataframe > thead > tr,\n",
       ".dataframe > tbody > tr {\n",
       "  text-align: right;\n",
       "  white-space: pre-wrap;\n",
       "}\n",
       "</style>\n",
       "<small>shape: (250_000, 2)</small><table border=\"1\" class=\"dataframe\"><thead><tr><th>id</th><th>Calories</th></tr><tr><td>i64</td><td>f64</td></tr></thead><tbody><tr><td>750000</td><td>254.259583</td></tr><tr><td>750001</td><td>271.299622</td></tr><tr><td>750002</td><td>284.293438</td></tr><tr><td>750003</td><td>275.61306</td></tr><tr><td>750004</td><td>281.289013</td></tr><tr><td>&hellip;</td><td>&hellip;</td></tr><tr><td>999995</td><td>254.221497</td></tr><tr><td>999996</td><td>239.661621</td></tr><tr><td>999997</td><td>278.261852</td></tr><tr><td>999998</td><td>276.495426</td></tr><tr><td>999999</td><td>273.012337</td></tr></tbody></table></div>"
      ],
      "text/plain": [
       "shape: (250_000, 2)\n",
       "┌────────┬────────────┐\n",
       "│ id     ┆ Calories   │\n",
       "│ ---    ┆ ---        │\n",
       "│ i64    ┆ f64        │\n",
       "╞════════╪════════════╡\n",
       "│ 750000 ┆ 254.259583 │\n",
       "│ 750001 ┆ 271.299622 │\n",
       "│ 750002 ┆ 284.293438 │\n",
       "│ 750003 ┆ 275.61306  │\n",
       "│ 750004 ┆ 281.289013 │\n",
       "│ …      ┆ …          │\n",
       "│ 999995 ┆ 254.221497 │\n",
       "│ 999996 ┆ 239.661621 │\n",
       "│ 999997 ┆ 278.261852 │\n",
       "│ 999998 ┆ 276.495426 │\n",
       "│ 999999 ┆ 273.012337 │\n",
       "└────────┴────────────┘"
      ]
     },
     "execution_count": 120,
     "metadata": {},
     "output_type": "execute_result"
    }
   ],
   "source": [
    "ss_df"
   ]
  },
  {
   "cell_type": "code",
   "execution_count": null,
   "id": "8720f08f",
   "metadata": {},
   "outputs": [],
   "source": []
  }
 ],
 "metadata": {
  "kernelspec": {
   "display_name": "cml",
   "language": "python",
   "name": "python3"
  },
  "language_info": {
   "codemirror_mode": {
    "name": "ipython",
    "version": 3
   },
   "file_extension": ".py",
   "mimetype": "text/x-python",
   "name": "python",
   "nbconvert_exporter": "python",
   "pygments_lexer": "ipython3",
   "version": "3.11.10"
  }
 },
 "nbformat": 4,
 "nbformat_minor": 5
}
