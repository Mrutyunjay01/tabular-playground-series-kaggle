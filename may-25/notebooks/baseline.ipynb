{
 "cells": [
  {
   "cell_type": "markdown",
   "id": "7114b1c0",
   "metadata": {},
   "source": [
    "**Goal:** predict how many calories are burnt during a workout.\n",
    "**Metrics:** RMSLE (Root Mean Square Log Error)"
   ]
  },
  {
   "cell_type": "code",
   "execution_count": 133,
   "id": "d83968db",
   "metadata": {},
   "outputs": [],
   "source": [
    "import os\n",
    "import gc\n",
    "import yaml\n",
    "import xgboost as xgb\n",
    "import numpy as np\n",
    "import polars as pl\n",
    "import matplotlib.pyplot as plt\n",
    "from sklearn.model_selection import StratifiedKFold\n",
    "from sklearn.metrics import root_mean_squared_log_error\n",
    "\n",
    "%matplotlib inline"
   ]
  },
  {
   "cell_type": "code",
   "execution_count": 134,
   "id": "5b550f63",
   "metadata": {},
   "outputs": [],
   "source": [
    "with open(\"./../config.yml\", \"r\") as fh:\n",
    "    config = yaml.safe_load(fh)\n",
    "    fh.close()"
   ]
  },
  {
   "cell_type": "code",
   "execution_count": 135,
   "id": "d316f7a0",
   "metadata": {},
   "outputs": [],
   "source": [
    "train_df = pl.read_csv(os.path.join(config[\"data\"][\"path\"][\"inp\"], \"train.csv\"))\n",
    "test_df = pl.read_csv(os.path.join(config[\"data\"][\"path\"][\"inp\"], \"test.csv\"))\n",
    "ss_df = pl.read_csv(os.path.join(config[\"data\"][\"path\"][\"inp\"], \"sample_submission.csv\"))"
   ]
  },
  {
   "cell_type": "code",
   "execution_count": 136,
   "id": "9008561a",
   "metadata": {},
   "outputs": [
    {
     "data": {
      "text/html": [
       "<div><style>\n",
       ".dataframe > thead > tr,\n",
       ".dataframe > tbody > tr {\n",
       "  text-align: right;\n",
       "  white-space: pre-wrap;\n",
       "}\n",
       "</style>\n",
       "<small>shape: (5, 9)</small><table border=\"1\" class=\"dataframe\"><thead><tr><th>id</th><th>Sex</th><th>Age</th><th>Height</th><th>Weight</th><th>Duration</th><th>Heart_Rate</th><th>Body_Temp</th><th>Calories</th></tr><tr><td>i64</td><td>str</td><td>i64</td><td>f64</td><td>f64</td><td>f64</td><td>f64</td><td>f64</td><td>f64</td></tr></thead><tbody><tr><td>0</td><td>&quot;male&quot;</td><td>36</td><td>189.0</td><td>82.0</td><td>26.0</td><td>101.0</td><td>41.0</td><td>150.0</td></tr><tr><td>1</td><td>&quot;female&quot;</td><td>64</td><td>163.0</td><td>60.0</td><td>8.0</td><td>85.0</td><td>39.7</td><td>34.0</td></tr><tr><td>2</td><td>&quot;female&quot;</td><td>51</td><td>161.0</td><td>64.0</td><td>7.0</td><td>84.0</td><td>39.8</td><td>29.0</td></tr><tr><td>3</td><td>&quot;male&quot;</td><td>20</td><td>192.0</td><td>90.0</td><td>25.0</td><td>105.0</td><td>40.7</td><td>140.0</td></tr><tr><td>4</td><td>&quot;female&quot;</td><td>38</td><td>166.0</td><td>61.0</td><td>25.0</td><td>102.0</td><td>40.6</td><td>146.0</td></tr></tbody></table></div>"
      ],
      "text/plain": [
       "shape: (5, 9)\n",
       "┌─────┬────────┬─────┬────────┬───┬──────────┬────────────┬───────────┬──────────┐\n",
       "│ id  ┆ Sex    ┆ Age ┆ Height ┆ … ┆ Duration ┆ Heart_Rate ┆ Body_Temp ┆ Calories │\n",
       "│ --- ┆ ---    ┆ --- ┆ ---    ┆   ┆ ---      ┆ ---        ┆ ---       ┆ ---      │\n",
       "│ i64 ┆ str    ┆ i64 ┆ f64    ┆   ┆ f64      ┆ f64        ┆ f64       ┆ f64      │\n",
       "╞═════╪════════╪═════╪════════╪═══╪══════════╪════════════╪═══════════╪══════════╡\n",
       "│ 0   ┆ male   ┆ 36  ┆ 189.0  ┆ … ┆ 26.0     ┆ 101.0      ┆ 41.0      ┆ 150.0    │\n",
       "│ 1   ┆ female ┆ 64  ┆ 163.0  ┆ … ┆ 8.0      ┆ 85.0       ┆ 39.7      ┆ 34.0     │\n",
       "│ 2   ┆ female ┆ 51  ┆ 161.0  ┆ … ┆ 7.0      ┆ 84.0       ┆ 39.8      ┆ 29.0     │\n",
       "│ 3   ┆ male   ┆ 20  ┆ 192.0  ┆ … ┆ 25.0     ┆ 105.0      ┆ 40.7      ┆ 140.0    │\n",
       "│ 4   ┆ female ┆ 38  ┆ 166.0  ┆ … ┆ 25.0     ┆ 102.0      ┆ 40.6      ┆ 146.0    │\n",
       "└─────┴────────┴─────┴────────┴───┴──────────┴────────────┴───────────┴──────────┘"
      ]
     },
     "execution_count": 136,
     "metadata": {},
     "output_type": "execute_result"
    }
   ],
   "source": [
    "train_df.head()"
   ]
  },
  {
   "cell_type": "markdown",
   "id": "2d7d4b62",
   "metadata": {},
   "source": [
    "so, we have 8 columns and target as Calories. Workout duration I assume to be in minutes, Heart Rate in BPS, Body Temp in Celcius, Height in cm, weight in Kg."
   ]
  },
  {
   "cell_type": "code",
   "execution_count": 137,
   "id": "c2de10aa",
   "metadata": {},
   "outputs": [
    {
     "data": {
      "text/plain": [
       "(750000, 250000)"
      ]
     },
     "execution_count": 137,
     "metadata": {},
     "output_type": "execute_result"
    }
   ],
   "source": [
    "len(train_df), len(test_df)"
   ]
  },
  {
   "cell_type": "code",
   "execution_count": 138,
   "id": "aea50fef",
   "metadata": {},
   "outputs": [
    {
     "data": {
      "text/html": [
       "<div><style>\n",
       ".dataframe > thead > tr,\n",
       ".dataframe > tbody > tr {\n",
       "  text-align: right;\n",
       "  white-space: pre-wrap;\n",
       "}\n",
       "</style>\n",
       "<small>shape: (9, 2)</small><table border=\"1\" class=\"dataframe\"><thead><tr><th>statistic</th><th>value</th></tr><tr><td>str</td><td>f64</td></tr></thead><tbody><tr><td>&quot;count&quot;</td><td>750000.0</td></tr><tr><td>&quot;null_count&quot;</td><td>0.0</td></tr><tr><td>&quot;mean&quot;</td><td>88.282781</td></tr><tr><td>&quot;std&quot;</td><td>62.395349</td></tr><tr><td>&quot;min&quot;</td><td>1.0</td></tr><tr><td>&quot;25%&quot;</td><td>34.0</td></tr><tr><td>&quot;50%&quot;</td><td>77.0</td></tr><tr><td>&quot;75%&quot;</td><td>136.0</td></tr><tr><td>&quot;max&quot;</td><td>314.0</td></tr></tbody></table></div>"
      ],
      "text/plain": [
       "shape: (9, 2)\n",
       "┌────────────┬───────────┐\n",
       "│ statistic  ┆ value     │\n",
       "│ ---        ┆ ---       │\n",
       "│ str        ┆ f64       │\n",
       "╞════════════╪═══════════╡\n",
       "│ count      ┆ 750000.0  │\n",
       "│ null_count ┆ 0.0       │\n",
       "│ mean       ┆ 88.282781 │\n",
       "│ std        ┆ 62.395349 │\n",
       "│ min        ┆ 1.0       │\n",
       "│ 25%        ┆ 34.0      │\n",
       "│ 50%        ┆ 77.0      │\n",
       "│ 75%        ┆ 136.0     │\n",
       "│ max        ┆ 314.0     │\n",
       "└────────────┴───────────┘"
      ]
     },
     "execution_count": 138,
     "metadata": {},
     "output_type": "execute_result"
    }
   ],
   "source": [
    "train_df['Calories'].describe()"
   ]
  },
  {
   "cell_type": "code",
   "execution_count": 139,
   "id": "6e96f596",
   "metadata": {},
   "outputs": [
    {
     "data": {
      "text/plain": [
       "<Axes: >"
      ]
     },
     "execution_count": 139,
     "metadata": {},
     "output_type": "execute_result"
    },
    {
     "data": {
      "image/png": "[encoded data removed]",
      "text/plain": [
       "<Figure size 640x480 with 1 Axes>"
      ]
     },
     "metadata": {},
     "output_type": "display_data"
    }
   ],
   "source": [
    "train_df['Calories'].to_pandas().hist()"
   ]
  },
  {
   "cell_type": "code",
   "execution_count": 140,
   "id": "92cda660",
   "metadata": {},
   "outputs": [],
   "source": [
    "y = train_df[\"Calories\"].to_numpy()\n",
    "y_log1p = np.log1p(y)"
   ]
  },
  {
   "cell_type": "code",
   "execution_count": 141,
   "id": "6035946f",
   "metadata": {},
   "outputs": [
    {
     "data": {
      "text/plain": [
       "(array([  3081.,  11103.,  24812.,  40201.,  58387.,  79358., 126449.,\n",
       "        157910., 190319.,  58380.]),\n",
       " array([0.69314718, 1.19908973, 1.70503227, 2.21097482, 2.71691736,\n",
       "        3.22285991, 3.72880246, 4.234745  , 4.74068755, 5.24663009,\n",
       "        5.75257264]),\n",
       " <BarContainer object of 10 artists>)"
      ]
     },
     "execution_count": 141,
     "metadata": {},
     "output_type": "execute_result"
    },
    {
     "data": {
      "image/png": "[encoded data removed]",
      "text/plain": [
       "<Figure size 640x480 with 1 Axes>"
      ]
     },
     "metadata": {},
     "output_type": "display_data"
    }
   ],
   "source": [
    "plt.hist(y_log1p)"
   ]
  },
  {
   "cell_type": "code",
   "execution_count": 142,
   "id": "49bfab03",
   "metadata": {},
   "outputs": [],
   "source": [
    "# handle categorical values\n",
    "# map male to 1, female to -1\n",
    "train_df = train_df.with_columns(\n",
    "    pl.when(\n",
    "        pl.col(\"Sex\") == \"male\"\n",
    "    ).then(1)\n",
    "    .otherwise(-1).alias(\"Sex\")\n",
    ")\n",
    "\n",
    "test_df = test_df.with_columns(\n",
    "    pl.when(\n",
    "        pl.col(\"Sex\") == \"male\"\n",
    "    ).then(1).otherwise(-1).alias(\"Sex\")\n",
    ")"
   ]
  },
  {
   "cell_type": "code",
   "execution_count": 143,
   "id": "0c288483",
   "metadata": {},
   "outputs": [],
   "source": [
    "# create log calories column for qcut\n",
    "train_df = train_df.with_columns(\n",
    "    pl.Series(\"logCalories\", y_log1p)\n",
    ")"
   ]
  },
  {
   "cell_type": "code",
   "execution_count": 144,
   "id": "e4aa89c7",
   "metadata": {},
   "outputs": [],
   "source": [
    "train_df = train_df.with_columns(\n",
    "    pl.col(\"logCalories\").qcut(\n",
    "        [0, 0.25, 0.5, 0.75, 1], \n",
    "        labels=[\"l1\", \"l2\", \"l3\", \"l4\", \"l5\", \"l6\"]).alias(\"Calories_qcut\")\n",
    ")"
   ]
  },
  {
   "cell_type": "code",
   "execution_count": 145,
   "id": "d0562bc7",
   "metadata": {},
   "outputs": [],
   "source": [
    "xgb_params = {\n",
    "        \"subsample\": 0.7,\n",
    "        \"colsample_bytree\": 0.45,\n",
    "        \"max_depth\": 6,\n",
    "        \"learning_rate\": 0.006,\n",
    "        \"objective\": \"reg:squarederror\",\n",
    "        \"nthread\": -1,\n",
    "        # 'tree_method': 'gpu_hist',\n",
    "        \"max_bin\": 168, \n",
    "        'min_child_weight': 3,\n",
    "        'reg_lambda': 0.006,\n",
    "        'reg_alpha': 0.04, \n",
    "        'seed' : 42,\n",
    "}"
   ]
  },
  {
   "cell_type": "code",
   "execution_count": 147,
   "id": "3a0a79ad",
   "metadata": {},
   "outputs": [
    {
     "name": "stdout",
     "output_type": "stream",
     "text": [
      "Fold: 0\n",
      "[0]\ttrain-rmse:0.95744\tval-rmse:0.95751\n",
      "[1000]\ttrain-rmse:0.02083\tval-rmse:0.02078\n",
      "[2000]\ttrain-rmse:0.01679\tval-rmse:0.01689\n",
      "[3000]\ttrain-rmse:0.01541\tval-rmse:0.01569\n",
      "[4000]\ttrain-rmse:0.01464\tval-rmse:0.01507\n",
      "[5000]\ttrain-rmse:0.01409\tval-rmse:0.01470\n",
      "[6000]\ttrain-rmse:0.01365\tval-rmse:0.01442\n",
      "[7000]\ttrain-rmse:0.01326\tval-rmse:0.01420\n",
      "[8000]\ttrain-rmse:0.01293\tval-rmse:0.01403\n",
      "[9000]\ttrain-rmse:0.01262\tval-rmse:0.01387\n",
      "[9999]\ttrain-rmse:0.01233\tval-rmse:0.01375\n",
      "Fold: 0, OOF score: 0.013745017545829788\n",
      "Fold: 1\n",
      "[0]\ttrain-rmse:0.95725\tval-rmse:0.95827\n",
      "[1000]\ttrain-rmse:0.02078\tval-rmse:0.02107\n",
      "[2000]\ttrain-rmse:0.01673\tval-rmse:0.01723\n",
      "[3000]\ttrain-rmse:0.01536\tval-rmse:0.01606\n",
      "[4000]\ttrain-rmse:0.01458\tval-rmse:0.01547\n",
      "[5000]\ttrain-rmse:0.01404\tval-rmse:0.01512\n",
      "[6000]\ttrain-rmse:0.01360\tval-rmse:0.01485\n",
      "[7000]\ttrain-rmse:0.01321\tval-rmse:0.01463\n",
      "[8000]\ttrain-rmse:0.01288\tval-rmse:0.01447\n",
      "[9000]\ttrain-rmse:0.01258\tval-rmse:0.01431\n",
      "[9999]\ttrain-rmse:0.01231\tval-rmse:0.01418\n",
      "Fold: 1, OOF score: 0.014177045107707686\n",
      "Fold: 2\n",
      "[0]\ttrain-rmse:0.95765\tval-rmse:0.95667\n",
      "[1000]\ttrain-rmse:0.02080\tval-rmse:0.02092\n",
      "[2000]\ttrain-rmse:0.01676\tval-rmse:0.01698\n",
      "[3000]\ttrain-rmse:0.01539\tval-rmse:0.01579\n",
      "[4000]\ttrain-rmse:0.01462\tval-rmse:0.01520\n",
      "[5000]\ttrain-rmse:0.01407\tval-rmse:0.01483\n",
      "[6000]\ttrain-rmse:0.01363\tval-rmse:0.01456\n",
      "[7000]\ttrain-rmse:0.01325\tval-rmse:0.01434\n",
      "[8000]\ttrain-rmse:0.01292\tval-rmse:0.01416\n",
      "[9000]\ttrain-rmse:0.01261\tval-rmse:0.01401\n",
      "[9999]\ttrain-rmse:0.01232\tval-rmse:0.01388\n",
      "Fold: 2, OOF score: 0.013876652354521834\n",
      "Fold: 3\n",
      "[0]\ttrain-rmse:0.95742\tval-rmse:0.95760\n",
      "[1000]\ttrain-rmse:0.02078\tval-rmse:0.02109\n",
      "[2000]\ttrain-rmse:0.01675\tval-rmse:0.01717\n",
      "[3000]\ttrain-rmse:0.01538\tval-rmse:0.01599\n",
      "[4000]\ttrain-rmse:0.01460\tval-rmse:0.01538\n",
      "[5000]\ttrain-rmse:0.01406\tval-rmse:0.01502\n",
      "[6000]\ttrain-rmse:0.01362\tval-rmse:0.01474\n",
      "[7000]\ttrain-rmse:0.01323\tval-rmse:0.01450\n",
      "[8000]\ttrain-rmse:0.01290\tval-rmse:0.01433\n",
      "[9000]\ttrain-rmse:0.01259\tval-rmse:0.01416\n",
      "[9999]\ttrain-rmse:0.01232\tval-rmse:0.01403\n",
      "Fold: 3, OOF score: 0.014031799715188161\n",
      "Fold: 4\n",
      "[0]\ttrain-rmse:0.95751\tval-rmse:0.95722\n",
      "[1000]\ttrain-rmse:0.02076\tval-rmse:0.02109\n",
      "[2000]\ttrain-rmse:0.01669\tval-rmse:0.01723\n",
      "[3000]\ttrain-rmse:0.01531\tval-rmse:0.01608\n",
      "[4000]\ttrain-rmse:0.01453\tval-rmse:0.01552\n",
      "[5000]\ttrain-rmse:0.01399\tval-rmse:0.01517\n",
      "[6000]\ttrain-rmse:0.01355\tval-rmse:0.01492\n",
      "[7000]\ttrain-rmse:0.01316\tval-rmse:0.01470\n",
      "[8000]\ttrain-rmse:0.01283\tval-rmse:0.01454\n",
      "[9000]\ttrain-rmse:0.01253\tval-rmse:0.01439\n",
      "[9999]\ttrain-rmse:0.01225\tval-rmse:0.01427\n",
      "Fold: 4, OOF score: 0.01426969204663097\n"
     ]
    }
   ],
   "source": [
    "skf = StratifiedKFold(n_splits=5, shuffle=True, random_state=42)\n",
    "splits = skf.split(X=train_df, y=train_df[\"Calories_qcut\"])\n",
    "\n",
    "oof_predictions = np.zeros(len(train_df))\n",
    "\n",
    "dtest = xgb.DMatrix(test_df)\n",
    "y_test = np.zeros(len(test_df))\n",
    "\n",
    "for fold, (train_idx, val_idx) in enumerate(splits):\n",
    "    print(f\"Fold: {fold}\")\n",
    "    x_train, y_train = train_df[train_idx].drop(\"Calories_qcut\"), y_log1p[train_idx]\n",
    "    x_val, y_val = train_df[val_idx].drop(\"Calories_qcut\"), y_log1p[val_idx]\n",
    "\n",
    "    # create a xgb model with default params\n",
    "    dtrain = xgb.DMatrix(x_train, label=y_train)\n",
    "    dval = xgb.DMatrix(x_val, label=y_val)\n",
    "\n",
    "    # train the model\n",
    "    model = xgb.train(\n",
    "        params=xgb_params,\n",
    "        dtrain=dtrain,\n",
    "        num_boost_round=10000,\n",
    "        evals=[(dtrain, \"train\"), (dval, \"val\")],\n",
    "        early_stopping_rounds=500,\n",
    "        verbose_eval=1000\n",
    "    )\n",
    "\n",
    "    # predict the validation set\n",
    "    y_pred = model.predict(dval)\n",
    "    # inverse transform the predictions\n",
    "    y_pred = np.expm1(y_pred)\n",
    "    oof_predictions[val_idx] = y_pred\n",
    "    oof_score = root_mean_squared_log_error(y_true=np.expm1(y_val), y_pred=y_pred)\n",
    "    print(f\"Fold: {fold}, OOF score: {oof_score}\")\n",
    "\n",
    "    # predict the test set\n",
    "    y_test_fold = model.predict(dtest)\n",
    "    # inverse transform the predictions\n",
    "    y_test_fold = np.expm1(y_test_fold)\n",
    "    y_test += y_test_fold / skf.n_splits\n",
    "\n",
    "    del x_train, y_train, x_val, y_val, dtrain, dval, y_pred, y_test_fold\n",
    "    _ = gc.collect()"
   ]
  },
  {
   "cell_type": "code",
   "execution_count": 148,
   "id": "9703c168",
   "metadata": {},
   "outputs": [
    {
     "data": {
      "text/plain": [
       "0.014021348769779956"
      ]
     },
     "execution_count": 148,
     "metadata": {},
     "output_type": "execute_result"
    }
   ],
   "source": [
    "root_mean_squared_log_error(y_true=y, y_pred=oof_predictions)"
   ]
  },
  {
   "cell_type": "code",
   "execution_count": 149,
   "id": "455b312a",
   "metadata": {},
   "outputs": [
    {
     "data": {
      "text/plain": [
       "(array([180046., 142508., 114690., 100568.,  83402.,  70406.,  42551.,\n",
       "         12836.,   2777.,    216.]),\n",
       " array([  1. ,  32.3,  63.6,  94.9, 126.2, 157.5, 188.8, 220.1, 251.4,\n",
       "        282.7, 314. ]),\n",
       " <BarContainer object of 10 artists>)"
      ]
     },
     "execution_count": 149,
     "metadata": {},
     "output_type": "execute_result"
    },
    {
     "data": {
      "image/png": "[encoded data removed]",
      "text/plain": [
       "<Figure size 640x480 with 1 Axes>"
      ]
     },
     "metadata": {},
     "output_type": "display_data"
    }
   ],
   "source": [
    "plt.hist(oof_predictions)\n",
    "plt.hist(y)"
   ]
  },
  {
   "cell_type": "code",
   "execution_count": 150,
   "id": "8720f08f",
   "metadata": {},
   "outputs": [
    {
     "data": {
      "text/plain": [
       "(array([5.09000e+02, 3.52200e+03, 4.77800e+03, 1.31710e+04, 5.21840e+04,\n",
       "        1.20359e+05, 4.84180e+04, 6.86500e+03, 1.80000e+02, 1.40000e+01]),\n",
       " array([137.94038963, 158.30132961, 178.66226959, 199.02320957,\n",
       "        219.38414955, 239.74508953, 260.10602951, 280.46696949,\n",
       "        300.82790947, 321.18884945, 341.54978943]),\n",
       " <BarContainer object of 10 artists>)"
      ]
     },
     "execution_count": 150,
     "metadata": {},
     "output_type": "execute_result"
    },
    {
     "data": {
      "image/png": "[encoded data removed]",
      "text/plain": [
       "<Figure size 640x480 with 1 Axes>"
      ]
     },
     "metadata": {},
     "output_type": "display_data"
    }
   ],
   "source": [
    "plt.hist(y_test)"
   ]
  },
  {
   "cell_type": "code",
   "execution_count": 151,
   "id": "8c2db9a9",
   "metadata": {},
   "outputs": [],
   "source": [
    "ss_df = ss_df.with_columns(\n",
    "    pl.Series(y_test).alias(\"Calories\")\n",
    ")\n",
    "ss_df.write_csv(os.path.join(config[\"data\"][\"path\"][\"out\"], \"submission.csv\"))"
   ]
  },
  {
   "cell_type": "code",
   "execution_count": null,
   "id": "c22f5fd5",
   "metadata": {},
   "outputs": [
    {
     "data": {
      "text/html": [
       "<div><style>\n",
       ".dataframe > thead > tr,\n",
       ".dataframe > tbody > tr {\n",
       "  text-align: right;\n",
       "  white-space: pre-wrap;\n",
       "}\n",
       "</style>\n",
       "<small>shape: (250_000, 2)</small><table border=\"1\" class=\"dataframe\"><thead><tr><th>id</th><th>Calories</th></tr><tr><td>i64</td><td>f64</td></tr></thead><tbody><tr><td>750000</td><td>276.69537</td></tr><tr><td>750001</td><td>278.365311</td></tr><tr><td>750002</td><td>287.602165</td></tr><tr><td>750003</td><td>278.557789</td></tr><tr><td>750004</td><td>287.573521</td></tr><tr><td>&hellip;</td><td>&hellip;</td></tr><tr><td>999995</td><td>275.680294</td></tr><tr><td>999996</td><td>261.742298</td></tr><tr><td>999997</td><td>284.405571</td></tr><tr><td>999998</td><td>278.520149</td></tr><tr><td>999999</td><td>278.870899</td></tr></tbody></table></div>"
      ],
      "text/plain": [
       "shape: (250_000, 2)\n",
       "┌────────┬────────────┐\n",
       "│ id     ┆ Calories   │\n",
       "│ ---    ┆ ---        │\n",
       "│ i64    ┆ f64        │\n",
       "╞════════╪════════════╡\n",
       "│ 750000 ┆ 276.69537  │\n",
       "│ 750001 ┆ 278.365311 │\n",
       "│ 750002 ┆ 287.602165 │\n",
       "│ 750003 ┆ 278.557789 │\n",
       "│ 750004 ┆ 287.573521 │\n",
       "│ …      ┆ …          │\n",
       "│ 999995 ┆ 275.680294 │\n",
       "│ 999996 ┆ 261.742298 │\n",
       "│ 999997 ┆ 284.405571 │\n",
       "│ 999998 ┆ 278.520149 │\n",
       "│ 999999 ┆ 278.870899 │\n",
       "└────────┴────────────┘"
      ]
     },
     "execution_count": 131,
     "metadata": {},
     "output_type": "execute_result"
    }
   ],
   "source": [
    "ss_df"
   ]
  }
 ],
 "metadata": {
  "kernelspec": {
   "display_name": "cml",
   "language": "python",
   "name": "python3"
  },
  "language_info": {
   "codemirror_mode": {
    "name": "ipython",
    "version": 3
   },
   "file_extension": ".py",
   "mimetype": "text/x-python",
   "name": "python",
   "nbconvert_exporter": "python",
   "pygments_lexer": "ipython3",
   "version": "3.11.10"
  }
 },
 "nbformat": 4,
 "nbformat_minor": 5
}
